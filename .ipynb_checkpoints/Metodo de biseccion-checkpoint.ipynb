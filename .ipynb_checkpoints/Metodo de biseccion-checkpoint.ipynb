{
 "cells": [
  {
   "cell_type": "code",
   "execution_count": 1,
   "id": "2b5a8b60",
   "metadata": {},
   "outputs": [],
   "source": [
    "import sympy as sp\n",
    "import numpy as np\n"
   ]
  },
  {
   "cell_type": "code",
   "execution_count": 78,
   "id": "d28b93b7",
   "metadata": {},
   "outputs": [],
   "source": [
    "def biseccion(f1,a,b,e,maxi):\n",
    "    f=sp.lambdify(x,f1)\n",
    "    i=0 \n",
    "    er=100\n",
    "    c=(a+b)/2\n",
    "    while (er>=e):\n",
    "        c=(a+b)/2\n",
    "        if f(a)*f(c)<0:\n",
    "            b=c\n",
    "        else:\n",
    "            a=c\n",
    "        if i>=1:\n",
    "            er=abs(((xr2-c)/c))*100\n",
    "        xr2=c\n",
    "        #er=abs(((xr2-c)/xr2)*100)\n",
    "        i=i+1\n",
    "    return c"
   ]
  },
  {
   "cell_type": "code",
   "execution_count": 82,
   "id": "f4c8600a",
   "metadata": {},
   "outputs": [
    {
     "data": {
      "text/latex": [
       "$\\displaystyle -3.27795568466627 \\cdot 10^{-11}$"
      ],
      "text/plain": [
       "-3.27795568466627e-11"
      ]
     },
     "execution_count": 82,
     "metadata": {},
     "output_type": "execute_result"
    }
   ],
   "source": [
    "x=sp.symbols('x')\n",
    "f=x**3-x-2\n",
    "p=biseccion(f,1,2,0.00000001,10000)\n",
    "f.subs(x,p)"
   ]
  },
  {
   "cell_type": "code",
   "execution_count": 83,
   "id": "59e7deb9",
   "metadata": {},
   "outputs": [
    {
     "data": {
      "text/plain": [
       "1.5213797067990527"
      ]
     },
     "execution_count": 83,
     "metadata": {},
     "output_type": "execute_result"
    }
   ],
   "source": []
  },
  {
   "cell_type": "code",
   "execution_count": null,
   "id": "5f67a481",
   "metadata": {},
   "outputs": [],
   "source": []
  }
 ],
 "metadata": {
  "kernelspec": {
   "display_name": "Python 3 (ipykernel)",
   "language": "python",
   "name": "python3"
  },
  "language_info": {
   "codemirror_mode": {
    "name": "ipython",
    "version": 3
   },
   "file_extension": ".py",
   "mimetype": "text/x-python",
   "name": "python",
   "nbconvert_exporter": "python",
   "pygments_lexer": "ipython3",
   "version": "3.9.6"
  }
 },
 "nbformat": 4,
 "nbformat_minor": 5
}
