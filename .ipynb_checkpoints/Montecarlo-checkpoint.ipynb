{
 "cells": [
  {
   "cell_type": "code",
   "execution_count": 1,
   "id": "c4f93ee1",
   "metadata": {},
   "outputs": [],
   "source": [
    "import numpy as np\n",
    "from  matplotlib import pyplot as plt\n",
    "import sympy as sp\n",
    "from scipy.special import roots_legendre, eval_legendre\n",
    "import random\n",
    "import math"
   ]
  },
  {
   "cell_type": "code",
   "execution_count": 2,
   "id": "283c790d",
   "metadata": {},
   "outputs": [],
   "source": [
    "x=sp.symbols('x')\n",
    "j=sp.sqrt(-1)\n",
    "\n",
    "u=3*sp.sech((x-5)/6)*sp.exp(j*(x-5))\n",
    "#u=3*x*sp.exp(-x**2)*sp.exp(j*2*x)\n",
    "#u=2*sp.sech(x+sp.exp(1))*sp.sin(x+sp.exp(1/2))\n",
    "\n",
    "a=-1000 #Limite inferior\n",
    "b=1000 #Limite superiro\n"
   ]
  },
  {
   "cell_type": "code",
   "execution_count": 14,
   "id": "a7060334",
   "metadata": {},
   "outputs": [],
   "source": [
    "#Ir=sp.integrate(f,(x,a,b))\n",
    "#Eabs=abs(Iqg-Im)"
   ]
  },
  {
   "cell_type": "code",
   "execution_count": 112,
   "id": "bcaa5ca0",
   "metadata": {},
   "outputs": [
    {
     "name": "stdout",
     "output_type": "stream",
     "text": [
      "Montecarlo: (1.912948456391766e+147+9.42596524314831e+128j)\n",
      "\n",
      "Cuadratura Gaussiana (7.191539250357923e+141+1.6631454894875547e+82j)\n",
      "\n",
      "Error absoluto: 1.9129412648525156e+147\n"
     ]
    }
   ],
   "source": [
    "print('Montecarlo:',Im)\n",
    "print('\\nCuadratura Gaussiana',Iqg)\n",
    "print('\\nError absoluto:',Eabs)"
   ]
  },
  {
   "cell_type": "code",
   "execution_count": 12,
   "id": "7234aa19",
   "metadata": {},
   "outputs": [],
   "source": [
    "def montecarlo(a,b,f): ##Integral por montecarlo\n",
    "    f1=sp.lambidy(x,f)\n",
    "    n=1000000 #Numero de iteraciones\n",
    "    xs=np.random.uniform(low=a, high=b, size=n)\n",
    "    I=((b-a)/n)*np.sum(f1(xs))\n",
    "    return I\n"
   ]
  },
  {
   "cell_type": "code",
   "execution_count": 37,
   "id": "371756cf",
   "metadata": {},
   "outputs": [],
   "source": [
    "def quadg(a,b,n,f):##Integral por cuadratura gaussiana\n",
    "    f1=sp.lambdify(x,f)\n",
    "    r, w = roots_legendre(n)\n",
    "    fs=f1((((b-a)*r)+(b+a))/2)\n",
    "    I=np.dot(w,fs)\n",
    "    return I\n",
    "    "
   ]
  },
  {
   "cell_type": "code",
   "execution_count": 27,
   "id": "0af7928d",
   "metadata": {},
   "outputs": [],
   "source": [
    "def P(u): #Potencia\n",
    "    f=(np.conj(u)*u)**2\n",
    "    #f1=sp.lambdify(x,f)\n",
    "    Iqg=quadg(-1000,1000,3,f)\n",
    "    Im=montecarlo(-1000,1000,f)\n",
    "    return Iqg#,Im"
   ]
  },
  {
   "cell_type": "code",
   "execution_count": 40,
   "id": "3507ac1c",
   "metadata": {},
   "outputs": [],
   "source": [
    "def M(u):#Momentum\n",
    "    j=sp.sqrt(-1)\n",
    "    uc=np.conj(u)\n",
    "    f=j*sp.diff(uc,x)*u-sp.diff(u,x)*uc\n",
    "    #f1=sp.lambdify(x,f)\n",
    "    Iqg=quadg(-100,100,4,f)\n",
    "    Im=montecarlo(-1000,1000,f)\n",
    "    return Im"
   ]
  },
  {
   "cell_type": "code",
   "execution_count": 8,
   "id": "d5a521fb",
   "metadata": {},
   "outputs": [],
   "source": [
    "def H(u):#Hamiltoniano\n",
    "    dudt=sp.diff(u,x)\n",
    "    f=1/2*((np.conj(dudt)*dudt)**2-(u*np.conj(u))**4)\n",
    "    #f1=sp.lambdify(x,f)\n",
    "    #Iqg=quadg(-100,100,4,f1)\n",
    "    #Im=montecarlo(-1000,1000,f1)\n",
    "    return #Iqg#,Im"
   ]
  },
  {
   "cell_type": "code",
   "execution_count": 7,
   "id": "86778b2d",
   "metadata": {},
   "outputs": [],
   "source": [
    "def c(u): ##Centroide\n",
    "    ro=1\n",
    "    f=1/ro*(x*(u*np.conj(u))**2)\n",
    "    f1=sp.lambdify(x,f)\n",
    "    #Iqg=quadg(-100,100,4,f1)\n",
    "    #Im=montecarlo(-1000,1000,f1)\n",
    "    return #Iqg#,Im"
   ]
  },
  {
   "cell_type": "code",
   "execution_count": 42,
   "id": "251c84c1",
   "metadata": {},
   "outputs": [
    {
     "ename": "NameError",
     "evalue": "name 'Derivative' is not defined",
     "output_type": "error",
     "traceback": [
      "\u001b[1;31m---------------------------------------------------------------------------\u001b[0m",
      "\u001b[1;31mNameError\u001b[0m                                 Traceback (most recent call last)",
      "Cell \u001b[1;32mIn [42], line 1\u001b[0m\n\u001b[1;32m----> 1\u001b[0m \u001b[43mM\u001b[49m\u001b[43m(\u001b[49m\u001b[43mu\u001b[49m\u001b[43m)\u001b[49m\n",
      "Cell \u001b[1;32mIn [40], line 6\u001b[0m, in \u001b[0;36mM\u001b[1;34m(u)\u001b[0m\n\u001b[0;32m      4\u001b[0m f\u001b[38;5;241m=\u001b[39mj\u001b[38;5;241m*\u001b[39msp\u001b[38;5;241m.\u001b[39mdiff(uc,x)\u001b[38;5;241m*\u001b[39mu\u001b[38;5;241m-\u001b[39msp\u001b[38;5;241m.\u001b[39mdiff(u,x)\u001b[38;5;241m*\u001b[39muc\n\u001b[0;32m      5\u001b[0m \u001b[38;5;66;03m#f1=sp.lambdify(x,f)\u001b[39;00m\n\u001b[1;32m----> 6\u001b[0m Iqg\u001b[38;5;241m=\u001b[39m\u001b[43mquadg\u001b[49m\u001b[43m(\u001b[49m\u001b[38;5;241;43m-\u001b[39;49m\u001b[38;5;241;43m100\u001b[39;49m\u001b[43m,\u001b[49m\u001b[38;5;241;43m100\u001b[39;49m\u001b[43m,\u001b[49m\u001b[38;5;241;43m4\u001b[39;49m\u001b[43m,\u001b[49m\u001b[43mf\u001b[49m\u001b[43m)\u001b[49m\n\u001b[0;32m      7\u001b[0m Im\u001b[38;5;241m=\u001b[39mmontecarlo(\u001b[38;5;241m-\u001b[39m\u001b[38;5;241m1000\u001b[39m,\u001b[38;5;241m1000\u001b[39m,f)\n\u001b[0;32m      8\u001b[0m \u001b[38;5;28;01mreturn\u001b[39;00m Im\n",
      "Cell \u001b[1;32mIn [37], line 4\u001b[0m, in \u001b[0;36mquadg\u001b[1;34m(a, b, n, f)\u001b[0m\n\u001b[0;32m      2\u001b[0m f1\u001b[38;5;241m=\u001b[39msp\u001b[38;5;241m.\u001b[39mlambdify(x,f)\n\u001b[0;32m      3\u001b[0m r, w \u001b[38;5;241m=\u001b[39m roots_legendre(n)\n\u001b[1;32m----> 4\u001b[0m fs\u001b[38;5;241m=\u001b[39m\u001b[43mf1\u001b[49m\u001b[43m(\u001b[49m\u001b[43m(\u001b[49m\u001b[43m(\u001b[49m\u001b[43m(\u001b[49m\u001b[43mb\u001b[49m\u001b[38;5;241;43m-\u001b[39;49m\u001b[43ma\u001b[49m\u001b[43m)\u001b[49m\u001b[38;5;241;43m*\u001b[39;49m\u001b[43mr\u001b[49m\u001b[43m)\u001b[49m\u001b[38;5;241;43m+\u001b[39;49m\u001b[43m(\u001b[49m\u001b[43mb\u001b[49m\u001b[38;5;241;43m+\u001b[39;49m\u001b[43ma\u001b[49m\u001b[43m)\u001b[49m\u001b[43m)\u001b[49m\u001b[38;5;241;43m/\u001b[39;49m\u001b[38;5;241;43m2\u001b[39;49m\u001b[43m)\u001b[49m\n\u001b[0;32m      5\u001b[0m I\u001b[38;5;241m=\u001b[39mnp\u001b[38;5;241m.\u001b[39mdot(w,fs)\n\u001b[0;32m      6\u001b[0m \u001b[38;5;28;01mreturn\u001b[39;00m I\n",
      "File \u001b[1;32m<lambdifygenerated-9>:4\u001b[0m, in \u001b[0;36m_lambdifygenerated\u001b[1;34m(x)\u001b[0m\n\u001b[0;32m      1\u001b[0m \u001b[38;5;28;01mdef\u001b[39;00m \u001b[38;5;21m_lambdifygenerated\u001b[39m(x):\n\u001b[0;32m      2\u001b[0m     \u001b[38;5;28;01mreturn\u001b[39;00m (  \u001b[38;5;66;03m# Not supported in Python with SciPy and NumPy:\u001b[39;00m\n\u001b[0;32m      3\u001b[0m   \u001b[38;5;66;03m# Derivative\u001b[39;00m\n\u001b[1;32m----> 4\u001b[0m \u001b[38;5;241m-\u001b[39m\u001b[38;5;241m3\u001b[39m\u001b[38;5;241m*\u001b[39m(\u001b[38;5;241m-\u001b[39m\u001b[38;5;241m1\u001b[39m\u001b[38;5;241m/\u001b[39m\u001b[38;5;241m2\u001b[39m\u001b[38;5;241m*\u001b[39mexp(\u001b[38;5;241m1\u001b[39mj\u001b[38;5;241m*\u001b[39m(x \u001b[38;5;241m-\u001b[39m \u001b[38;5;241m5\u001b[39m))\u001b[38;5;241m*\u001b[39mtanh((\u001b[38;5;241m1\u001b[39m\u001b[38;5;241m/\u001b[39m\u001b[38;5;241m6\u001b[39m)\u001b[38;5;241m*\u001b[39mx \u001b[38;5;241m-\u001b[39m \u001b[38;5;241m5\u001b[39m\u001b[38;5;241m/\u001b[39m\u001b[38;5;241m6\u001b[39m)\u001b[38;5;241m*\u001b[39m((\u001b[38;5;241m1\u001b[39m\u001b[38;5;241m/\u001b[39m\u001b[38;5;241m2\u001b[39m)\u001b[38;5;241m*\u001b[39mexp(\u001b[38;5;241m5\u001b[39m\u001b[38;5;241m/\u001b[39m\u001b[38;5;241m6\u001b[39m \u001b[38;5;241m-\u001b[39m \u001b[38;5;241m1\u001b[39m\u001b[38;5;241m/\u001b[39m\u001b[38;5;241m6\u001b[39m\u001b[38;5;241m*\u001b[39mx) \u001b[38;5;241m+\u001b[39m (\u001b[38;5;241m1\u001b[39m\u001b[38;5;241m/\u001b[39m\u001b[38;5;241m2\u001b[39m)\u001b[38;5;241m*\u001b[39mexp((\u001b[38;5;241m1\u001b[39m\u001b[38;5;241m/\u001b[39m\u001b[38;5;241m6\u001b[39m)\u001b[38;5;241m*\u001b[39mx \u001b[38;5;241m-\u001b[39m \u001b[38;5;241m5\u001b[39m\u001b[38;5;241m/\u001b[39m\u001b[38;5;241m6\u001b[39m))\u001b[38;5;241m*\u001b[39m\u001b[38;5;241m*\u001b[39m(\u001b[38;5;241m-\u001b[39m\u001b[38;5;241m1.0\u001b[39m) \u001b[38;5;241m+\u001b[39m \u001b[38;5;241m3\u001b[39m\u001b[38;5;241m*\u001b[39m\u001b[38;5;241m1\u001b[39mj\u001b[38;5;241m*\u001b[39mexp(\u001b[38;5;241m1\u001b[39mj\u001b[38;5;241m*\u001b[39m(x \u001b[38;5;241m-\u001b[39m \u001b[38;5;241m5\u001b[39m))\u001b[38;5;241m*\u001b[39m((\u001b[38;5;241m1\u001b[39m\u001b[38;5;241m/\u001b[39m\u001b[38;5;241m2\u001b[39m)\u001b[38;5;241m*\u001b[39mexp(\u001b[38;5;241m5\u001b[39m\u001b[38;5;241m/\u001b[39m\u001b[38;5;241m6\u001b[39m \u001b[38;5;241m-\u001b[39m \u001b[38;5;241m1\u001b[39m\u001b[38;5;241m/\u001b[39m\u001b[38;5;241m6\u001b[39m\u001b[38;5;241m*\u001b[39mx) \u001b[38;5;241m+\u001b[39m (\u001b[38;5;241m1\u001b[39m\u001b[38;5;241m/\u001b[39m\u001b[38;5;241m2\u001b[39m)\u001b[38;5;241m*\u001b[39mexp((\u001b[38;5;241m1\u001b[39m\u001b[38;5;241m/\u001b[39m\u001b[38;5;241m6\u001b[39m)\u001b[38;5;241m*\u001b[39mx \u001b[38;5;241m-\u001b[39m \u001b[38;5;241m5\u001b[39m\u001b[38;5;241m/\u001b[39m\u001b[38;5;241m6\u001b[39m))\u001b[38;5;241m*\u001b[39m\u001b[38;5;241m*\u001b[39m(\u001b[38;5;241m-\u001b[39m\u001b[38;5;241m1.0\u001b[39m))\u001b[38;5;241m*\u001b[39mexp(\u001b[38;5;241m-\u001b[39m\u001b[38;5;241m1\u001b[39mj\u001b[38;5;241m*\u001b[39m(conjugate(x) \u001b[38;5;241m-\u001b[39m \u001b[38;5;241m5\u001b[39m))\u001b[38;5;241m*\u001b[39m((\u001b[38;5;241m1\u001b[39m\u001b[38;5;241m/\u001b[39m\u001b[38;5;241m2\u001b[39m)\u001b[38;5;241m*\u001b[39mexp(\u001b[38;5;241m5\u001b[39m\u001b[38;5;241m/\u001b[39m\u001b[38;5;241m6\u001b[39m \u001b[38;5;241m-\u001b[39m \u001b[38;5;241m1\u001b[39m\u001b[38;5;241m/\u001b[39m\u001b[38;5;241m6\u001b[39m\u001b[38;5;241m*\u001b[39mconjugate(x)) \u001b[38;5;241m+\u001b[39m (\u001b[38;5;241m1\u001b[39m\u001b[38;5;241m/\u001b[39m\u001b[38;5;241m2\u001b[39m)\u001b[38;5;241m*\u001b[39mexp((\u001b[38;5;241m1\u001b[39m\u001b[38;5;241m/\u001b[39m\u001b[38;5;241m6\u001b[39m)\u001b[38;5;241m*\u001b[39mconjugate(x) \u001b[38;5;241m-\u001b[39m \u001b[38;5;241m5\u001b[39m\u001b[38;5;241m/\u001b[39m\u001b[38;5;241m6\u001b[39m))\u001b[38;5;241m*\u001b[39m\u001b[38;5;241m*\u001b[39m(\u001b[38;5;241m-\u001b[39m\u001b[38;5;241m1.0\u001b[39m) \u001b[38;5;241m+\u001b[39m \u001b[38;5;241m3\u001b[39m\u001b[38;5;241m*\u001b[39m\u001b[38;5;241m1\u001b[39mj\u001b[38;5;241m*\u001b[39m(\u001b[38;5;241m-\u001b[39m\u001b[38;5;241m1\u001b[39m\u001b[38;5;241m/\u001b[39m\u001b[38;5;241m2\u001b[39m\u001b[38;5;241m*\u001b[39mexp(\u001b[38;5;241m-\u001b[39m\u001b[38;5;241m1\u001b[39mj\u001b[38;5;241m*\u001b[39m(conjugate(x) \u001b[38;5;241m-\u001b[39m \u001b[38;5;241m5\u001b[39m))\u001b[38;5;241m*\u001b[39mtanh((\u001b[38;5;241m1\u001b[39m\u001b[38;5;241m/\u001b[39m\u001b[38;5;241m6\u001b[39m)\u001b[38;5;241m*\u001b[39mconjugate(x) \u001b[38;5;241m-\u001b[39m \u001b[38;5;241m5\u001b[39m\u001b[38;5;241m/\u001b[39m\u001b[38;5;241m6\u001b[39m)\u001b[38;5;241m*\u001b[39m((\u001b[38;5;241m1\u001b[39m\u001b[38;5;241m/\u001b[39m\u001b[38;5;241m2\u001b[39m)\u001b[38;5;241m*\u001b[39mexp(\u001b[38;5;241m5\u001b[39m\u001b[38;5;241m/\u001b[39m\u001b[38;5;241m6\u001b[39m \u001b[38;5;241m-\u001b[39m \u001b[38;5;241m1\u001b[39m\u001b[38;5;241m/\u001b[39m\u001b[38;5;241m6\u001b[39m\u001b[38;5;241m*\u001b[39mconjugate(x)) \u001b[38;5;241m+\u001b[39m (\u001b[38;5;241m1\u001b[39m\u001b[38;5;241m/\u001b[39m\u001b[38;5;241m2\u001b[39m)\u001b[38;5;241m*\u001b[39mexp((\u001b[38;5;241m1\u001b[39m\u001b[38;5;241m/\u001b[39m\u001b[38;5;241m6\u001b[39m)\u001b[38;5;241m*\u001b[39mconjugate(x) \u001b[38;5;241m-\u001b[39m \u001b[38;5;241m5\u001b[39m\u001b[38;5;241m/\u001b[39m\u001b[38;5;241m6\u001b[39m))\u001b[38;5;241m*\u001b[39m\u001b[38;5;241m*\u001b[39m(\u001b[38;5;241m-\u001b[39m\u001b[38;5;241m1.0\u001b[39m)\u001b[38;5;241m*\u001b[39m\u001b[43mDerivative\u001b[49m(conjugate(x), x) \u001b[38;5;241m-\u001b[39m \u001b[38;5;241m3\u001b[39m\u001b[38;5;241m*\u001b[39m\u001b[38;5;241m1\u001b[39mj\u001b[38;5;241m*\u001b[39mexp(\u001b[38;5;241m-\u001b[39m\u001b[38;5;241m1\u001b[39mj\u001b[38;5;241m*\u001b[39m(conjugate(x) \u001b[38;5;241m-\u001b[39m \u001b[38;5;241m5\u001b[39m))\u001b[38;5;241m*\u001b[39m((\u001b[38;5;241m1\u001b[39m\u001b[38;5;241m/\u001b[39m\u001b[38;5;241m2\u001b[39m)\u001b[38;5;241m*\u001b[39mexp(\u001b[38;5;241m5\u001b[39m\u001b[38;5;241m/\u001b[39m\u001b[38;5;241m6\u001b[39m \u001b[38;5;241m-\u001b[39m \u001b[38;5;241m1\u001b[39m\u001b[38;5;241m/\u001b[39m\u001b[38;5;241m6\u001b[39m\u001b[38;5;241m*\u001b[39mconjugate(x)) \u001b[38;5;241m+\u001b[39m (\u001b[38;5;241m1\u001b[39m\u001b[38;5;241m/\u001b[39m\u001b[38;5;241m2\u001b[39m)\u001b[38;5;241m*\u001b[39mexp((\u001b[38;5;241m1\u001b[39m\u001b[38;5;241m/\u001b[39m\u001b[38;5;241m6\u001b[39m)\u001b[38;5;241m*\u001b[39mconjugate(x) \u001b[38;5;241m-\u001b[39m \u001b[38;5;241m5\u001b[39m\u001b[38;5;241m/\u001b[39m\u001b[38;5;241m6\u001b[39m))\u001b[38;5;241m*\u001b[39m\u001b[38;5;241m*\u001b[39m(\u001b[38;5;241m-\u001b[39m\u001b[38;5;241m1.0\u001b[39m)\u001b[38;5;241m*\u001b[39mDerivative(conjugate(x), x))\u001b[38;5;241m*\u001b[39mexp(\u001b[38;5;241m1\u001b[39mj\u001b[38;5;241m*\u001b[39m(x \u001b[38;5;241m-\u001b[39m \u001b[38;5;241m5\u001b[39m))\u001b[38;5;241m*\u001b[39m((\u001b[38;5;241m1\u001b[39m\u001b[38;5;241m/\u001b[39m\u001b[38;5;241m2\u001b[39m)\u001b[38;5;241m*\u001b[39mexp(\u001b[38;5;241m5\u001b[39m\u001b[38;5;241m/\u001b[39m\u001b[38;5;241m6\u001b[39m \u001b[38;5;241m-\u001b[39m \u001b[38;5;241m1\u001b[39m\u001b[38;5;241m/\u001b[39m\u001b[38;5;241m6\u001b[39m\u001b[38;5;241m*\u001b[39mx) \u001b[38;5;241m+\u001b[39m (\u001b[38;5;241m1\u001b[39m\u001b[38;5;241m/\u001b[39m\u001b[38;5;241m2\u001b[39m)\u001b[38;5;241m*\u001b[39mexp((\u001b[38;5;241m1\u001b[39m\u001b[38;5;241m/\u001b[39m\u001b[38;5;241m6\u001b[39m)\u001b[38;5;241m*\u001b[39mx \u001b[38;5;241m-\u001b[39m \u001b[38;5;241m5\u001b[39m\u001b[38;5;241m/\u001b[39m\u001b[38;5;241m6\u001b[39m))\u001b[38;5;241m*\u001b[39m\u001b[38;5;241m*\u001b[39m(\u001b[38;5;241m-\u001b[39m\u001b[38;5;241m1.0\u001b[39m))\n",
      "\u001b[1;31mNameError\u001b[0m: name 'Derivative' is not defined"
     ]
    }
   ],
   "source": [
    "M(u)"
   ]
  },
  {
   "cell_type": "code",
   "execution_count": 22,
   "id": "153c4ebe",
   "metadata": {},
   "outputs": [
    {
     "data": {
      "text/latex": [
       "$\\displaystyle 3 i \\left(- \\frac{e^{- i \\left(\\overline{x} - 5\\right)} \\tanh{\\left(\\frac{\\overline{x}}{6} - \\frac{5}{6} \\right)} \\operatorname{sech}{\\left(\\frac{\\overline{x}}{6} - \\frac{5}{6} \\right)} \\frac{d}{d x} \\overline{x}}{2} - 3 i e^{- i \\left(\\overline{x} - 5\\right)} \\operatorname{sech}{\\left(\\frac{\\overline{x}}{6} - \\frac{5}{6} \\right)} \\frac{d}{d x} \\overline{x}\\right) e^{i \\left(x - 5\\right)} \\operatorname{sech}{\\left(\\frac{x}{6} - \\frac{5}{6} \\right)}$"
      ],
      "text/plain": [
       "3*I*(-exp(-I*(conjugate(x) - 5))*tanh(conjugate(x)/6 - 5/6)*sech(conjugate(x)/6 - 5/6)*Derivative(conjugate(x), x)/2 - 3*I*exp(-I*(conjugate(x) - 5))*sech(conjugate(x)/6 - 5/6)*Derivative(conjugate(x), x))*exp(I*(x - 5))*sech(x/6 - 5/6)"
      ]
     },
     "execution_count": 22,
     "metadata": {},
     "output_type": "execute_result"
    }
   ],
   "source": []
  },
  {
   "cell_type": "code",
   "execution_count": null,
   "id": "eac1b2ed",
   "metadata": {},
   "outputs": [],
   "source": []
  }
 ],
 "metadata": {
  "kernelspec": {
   "display_name": "Python 3 (ipykernel)",
   "language": "python",
   "name": "python3"
  },
  "language_info": {
   "codemirror_mode": {
    "name": "ipython",
    "version": 3
   },
   "file_extension": ".py",
   "mimetype": "text/x-python",
   "name": "python",
   "nbconvert_exporter": "python",
   "pygments_lexer": "ipython3",
   "version": "3.9.6"
  }
 },
 "nbformat": 4,
 "nbformat_minor": 5
}
