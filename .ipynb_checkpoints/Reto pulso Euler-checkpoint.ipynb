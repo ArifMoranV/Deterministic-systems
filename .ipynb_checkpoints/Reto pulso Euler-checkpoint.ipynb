{
 "cells": [
  {
   "cell_type": "code",
   "execution_count": 1,
   "id": "8b2ef36d",
   "metadata": {},
   "outputs": [],
   "source": [
    "import numpy as np\n",
    "from matplotlib import pyplot as plt\n",
    "from matplotlib import cm"
   ]
  },
  {
   "cell_type": "code",
   "execution_count": null,
   "id": "e8044754",
   "metadata": {},
   "outputs": [],
   "source": [
    "dt = 0.05\n",
    "dx=(dt**2)/2\n",
    "ti=-10\n",
    "tf=10\n",
    "xf=5\n",
    "ts=np.arange(ti,tf,dt)\n",
    "xs=np.arange(0,xf,dx)\n",
    "\n",
    "Nx=len(xs)\n",
    "N=len(ts)\n",
    "\n",
    "T,X=np.meshgrid(ts,xs)\n",
    "#u0=np.sin(ts)\n",
    "u0=np.exp(-ts**2)\n",
    "#u0=1/np.cosh(ts)\n",
    "\n",
    "\n",
    "#us=u0\n",
    "us=np.ones((Nx,N))*0j\n",
    "us[0]=u0\n",
    "#us=np.vstack((us,u0+dt*f(u0)))\n",
    "us[1]=u0+dx*f(u0)\n",
    "###us[1]=us[0]+(dt/6)*()\n",
    "for i in range(1,Nx-1):\n",
    "    #us=np.vstack((us,2*dt*f(us[i])+us[i-1]))\n",
    "    us[i+1]=(2*dx*f(us[i])+us[i-1])\n",
    "\n",
    "#fig, ax = plt.subplots(subplot_kw={\"projection\": \"3d\"})\n",
    "#ax.scatter(T,X,us)\n",
    "#surf=ax.plot_surface(T, X, np.real(us),cmap=cm.coolwarm,\n",
    "                       #linewidth=0, antialiased=False)\n",
    "\n",
    "surf=plt.contourf(T,X,abs(us))\n",
    "plt.colorbar(surf, shrink=0.5, aspect=5)\n",
    "plt.xlabel(\"tiempo\")\n",
    "plt.xlim([ti,tf])\n",
    "plt.ylim([0,xf])\n",
    "plt.ylabel(\"espacio x\")\n",
    "#plt.axis('equal')\n",
    "plt.show()\n"
   ]
  },
  {
   "cell_type": "code",
   "execution_count": 2,
   "id": "971fcdfc",
   "metadata": {},
   "outputs": [],
   "source": [
    "def f(u):\n",
    "    return 1j*((u)*np.conj(u)*u+(1/2)*df2(u,dt)) ###derivada de tiempo 2"
   ]
  },
  {
   "cell_type": "code",
   "execution_count": 179,
   "id": "09daf0b2",
   "metadata": {},
   "outputs": [],
   "source": [
    "#def f(u):\n",
    "    #return 1j*((u)*np.conj(u)*u+(1/2)*df(df(u,dt),dt)) ###derivada de tiempo 2"
   ]
  },
  {
   "cell_type": "code",
   "execution_count": 3,
   "id": "04966d1d",
   "metadata": {},
   "outputs": [],
   "source": [
    "def df2(y,dt):\n",
    "    N=len(y)\n",
    "    yp=y*0\n",
    "    for i in range(1,N-1):\n",
    "        yp[i]=(y[i+1]-2*y[i]+y[i-1])/dt**2\n",
    "    yp[0]=yp[1]\n",
    "    yp[-1]=yp[-2]\n",
    "    return yp"
   ]
  },
  {
   "cell_type": "code",
   "execution_count": 177,
   "id": "b9ba844f",
   "metadata": {},
   "outputs": [],
   "source": [
    "#def df(y,dt):\n",
    "  #  t=np.arange(ti,tf,dt)\n",
    "   # n=len(y)\n",
    "    #v1=np.ones(n-1)*(1/2)\n",
    "    #v2=np.ones(n-1)*(-1/2)\n",
    "    #D=(np.diag(v1,k=1)+np.diag(v2,k=-1))/dt\n",
    "    #yp=np.matmul(D, y)\n",
    "    #yp[0]=yp[1]\n",
    "    #yp[-1]=yp[-2]\n",
    "    #return yp"
   ]
  }
 ],
 "metadata": {
  "kernelspec": {
   "display_name": "Python 3 (ipykernel)",
   "language": "python",
   "name": "python3"
  },
  "language_info": {
   "codemirror_mode": {
    "name": "ipython",
    "version": 3
   },
   "file_extension": ".py",
   "mimetype": "text/x-python",
   "name": "python",
   "nbconvert_exporter": "python",
   "pygments_lexer": "ipython3",
   "version": "3.9.6"
  }
 },
 "nbformat": 4,
 "nbformat_minor": 5
}
