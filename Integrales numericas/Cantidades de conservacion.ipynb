{
 "cells": [
  {
   "cell_type": "code",
   "execution_count": 3,
   "id": "c4f93ee1",
   "metadata": {},
   "outputs": [],
   "source": [
    "import numpy as np\n",
    "from  matplotlib import pyplot as plt\n",
    "import sympy as sp\n",
    "from scipy.special import roots_legendre, eval_legendre\n",
    "import random\n",
    "import math"
   ]
  },
  {
   "cell_type": "code",
   "execution_count": 16,
   "id": "283c790d",
   "metadata": {},
   "outputs": [],
   "source": [
    "x=sp.symbols('x')\n",
    "j=sp.sqrt(-1)\n",
    "\n",
    "#u=3*sp.sech((x-5)/6)*sp.exp(j*(x-5))\n",
    "u=3*x*sp.exp(-x**2)*sp.exp(j*2*x)\n",
    "#u=2*sp.sech(x+sp.exp(1))*sp.sin(x+sp.exp(1/2))\n",
    "\n",
    "a=-1000 #Limite inferior\n",
    "b=1000 #Limite superiro\n"
   ]
  },
  {
   "cell_type": "code",
   "execution_count": null,
   "id": "a7060334",
   "metadata": {},
   "outputs": [],
   "source": [
    "#Ir=sp.integrate(f,(x,a,b))\n",
    "#Eabs=abs(Iqg-Im)"
   ]
  },
  {
   "cell_type": "code",
   "execution_count": null,
   "id": "bcaa5ca0",
   "metadata": {},
   "outputs": [],
   "source": [
    "print('Montecarlo:',Im)\n",
    "print('\\nCuadratura Gaussiana',Iqg)\n",
    "print('\\nError absoluto:',Eabs)"
   ]
  },
  {
   "cell_type": "code",
   "execution_count": 9,
   "id": "7234aa19",
   "metadata": {},
   "outputs": [],
   "source": [
    "def montecarlo(a,b,f): ##Integral por montecarlo\n",
    "    f1=sp.lambdify(x,f)\n",
    "    n=1000000 #Numero de iteraciones\n",
    "    xs=np.random.uniform(low=a, high=b, size=n)\n",
    "    I=((b-a)/n)*np.sum(f1(xs))\n",
    "    return I\n"
   ]
  },
  {
   "cell_type": "code",
   "execution_count": 4,
   "id": "371756cf",
   "metadata": {},
   "outputs": [],
   "source": [
    "def quadg(a,b,n,f):##Integral por cuadratura gaussiana\n",
    "    f1=sp.lambdify(x,f)\n",
    "    r, w = roots_legendre(n)\n",
    "    fs=f1((((b-a)*r)+(b+a))/2)\n",
    "    I=np.dot(w,fs)\n",
    "    return I\n",
    "    "
   ]
  },
  {
   "cell_type": "code",
   "execution_count": 12,
   "id": "0af7928d",
   "metadata": {},
   "outputs": [],
   "source": [
    "def P(u): #Potencia\n",
    "    f=(np.conj(u)*u)**2\n",
    "    #f1=sp.lambdify(x,f)\n",
    "    Iqg=quadg(-1000,1000,3,f)\n",
    "    Im=montecarlo(-1000,1000,f)\n",
    "    return Iqg#,Im"
   ]
  },
  {
   "cell_type": "code",
   "execution_count": 17,
   "id": "3507ac1c",
   "metadata": {},
   "outputs": [],
   "source": [
    "def M(u):#Momentum\n",
    "    j=sp.sqrt(-1)\n",
    "    uc=np.conj(u)\n",
    "    f=sp.simplify(j*sp.diff(uc,x)*u-sp.diff(u,x)*uc)\n",
    "    #f1=sp.lambdify(x,f)\n",
    "    #Iqg=quadg(-100,100,4,f)\n",
    "    #Im=montecarlo(-1000,1000,f)\n",
    "    return f"
   ]
  },
  {
   "cell_type": "code",
   "execution_count": null,
   "id": "d5a521fb",
   "metadata": {},
   "outputs": [],
   "source": [
    "def H(u):#Hamiltoniano\n",
    "    dudt=sp.diff(u,x)\n",
    "    f=1/2*((np.conj(dudt)*dudt)**2-(u*np.conj(u))**4)\n",
    "    #f1=sp.lambdify(x,f)\n",
    "    #Iqg=quadg(-100,100,4,f1)\n",
    "    #Im=montecarlo(-1000,1000,f1)\n",
    "    return #Iqg#,Im"
   ]
  },
  {
   "cell_type": "code",
   "execution_count": null,
   "id": "86778b2d",
   "metadata": {},
   "outputs": [],
   "source": [
    "def c(u): ##Centroide\n",
    "    ro=1\n",
    "    f=1/ro*(x*(u*np.conj(u))**2)\n",
    "    f1=sp.lambdify(x,f)\n",
    "    #Iqg=quadg(-100,100,4,f1)\n",
    "    #Im=montecarlo(-1000,1000,f1)\n",
    "    return #Iqg#,Im"
   ]
  },
  {
   "cell_type": "code",
   "execution_count": 25,
   "id": "251c84c1",
   "metadata": {},
   "outputs": [
    {
     "data": {
      "text/latex": [
       "$\\displaystyle 9 \\left(- i x \\left(2 \\overline{x}^{2} + 2 i \\overline{x} - 1\\right) \\frac{d}{d x} \\overline{x} - \\left(- 2 x^{2} + 2 i x + 1\\right) \\overline{x}\\right) e^{- x^{2} + 2 i x - \\overline{x}^{2} - 2 i \\overline{x}}$"
      ],
      "text/plain": [
       "9*(-I*x*(2*conjugate(x)**2 + 2*I*conjugate(x) - 1)*Derivative(conjugate(x), x) - (-2*x**2 + 2*I*x + 1)*conjugate(x))*exp(-x**2 + 2*I*x - conjugate(x)**2 - 2*I*conjugate(x))"
      ]
     },
     "execution_count": 25,
     "metadata": {},
     "output_type": "execute_result"
    }
   ],
   "source": []
  },
  {
   "cell_type": "code",
   "execution_count": 21,
   "id": "29255d07",
   "metadata": {},
   "outputs": [],
   "source": []
  },
  {
   "cell_type": "code",
   "execution_count": 24,
   "id": "9ec0970d",
   "metadata": {},
   "outputs": [
    {
     "data": {
      "text/latex": [
       "$\\displaystyle 9 \\left(- i x \\left(2 \\overline{x}^{2} + 2 i \\overline{x} - 1\\right) \\frac{d}{d x} \\overline{x} - \\left(- 2 x^{2} + 2 i x + 1\\right) \\overline{x}\\right) e^{- x^{2} + 2 i x - \\overline{x}^{2} - 2 i \\overline{x}}$"
      ],
      "text/plain": [
       "9*(-I*x*(2*conjugate(x)**2 + 2*I*conjugate(x) - 1)*Derivative(conjugate(x), x) - (-2*x**2 + 2*I*x + 1)*conjugate(x))*exp(-x**2 + 2*I*x - conjugate(x)**2 - 2*I*conjugate(x))"
      ]
     },
     "execution_count": 24,
     "metadata": {},
     "output_type": "execute_result"
    }
   ],
   "source": []
  },
  {
   "cell_type": "code",
   "execution_count": null,
   "id": "0069dfea",
   "metadata": {},
   "outputs": [],
   "source": []
  }
 ],
 "metadata": {
  "kernelspec": {
   "display_name": "Python 3 (ipykernel)",
   "language": "python",
   "name": "python3"
  },
  "language_info": {
   "codemirror_mode": {
    "name": "ipython",
    "version": 3
   },
   "file_extension": ".py",
   "mimetype": "text/x-python",
   "name": "python",
   "nbconvert_exporter": "python",
   "pygments_lexer": "ipython3",
   "version": "3.9.6"
  }
 },
 "nbformat": 4,
 "nbformat_minor": 5
}
