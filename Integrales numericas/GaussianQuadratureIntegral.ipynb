{
 "cells": [
  {
   "cell_type": "code",
   "execution_count": 1,
   "id": "c151ecd8",
   "metadata": {},
   "outputs": [],
   "source": [
    "import numpy as np\n",
    "from  matplotlib import pyplot as plt\n",
    "import sympy as sp\n",
    "from scipy.special import roots_legendre, eval_legendre\n",
    "import random\n",
    "import math"
   ]
  },
  {
   "cell_type": "code",
   "execution_count": 5,
   "id": "58b8380b",
   "metadata": {},
   "outputs": [],
   "source": [
    "x=sp.symbols('x')"
   ]
  },
  {
   "cell_type": "code",
   "execution_count": 11,
   "id": "2b6e4eec",
   "metadata": {},
   "outputs": [
    {
     "data": {
      "text/plain": [
       "0.6666666666666666"
      ]
     },
     "execution_count": 11,
     "metadata": {},
     "output_type": "execute_result"
    }
   ],
   "source": [
    "f=x**2\n",
    "a=-1\n",
    "b=1\n",
    "\n",
    "\n",
    "f1=sp.lambdify(x,f)\n",
    "Iqg(a,b,2,f1)\n"
   ]
  },
  {
   "cell_type": "code",
   "execution_count": 10,
   "id": "8ee153ae",
   "metadata": {},
   "outputs": [],
   "source": [
    "\n",
    "def Iqg(a,b,n,f1):\n",
    "    r, w = roots_legendre(n)\n",
    "    fs=f1((((b-a)*r)+(b+a))/2)\n",
    "    I=np.dot(w,fs)\n",
    "    return I"
   ]
  }
 ],
 "metadata": {
  "kernelspec": {
   "display_name": "Python 3 (ipykernel)",
   "language": "python",
   "name": "python3"
  },
  "language_info": {
   "codemirror_mode": {
    "name": "ipython",
    "version": 3
   },
   "file_extension": ".py",
   "mimetype": "text/x-python",
   "name": "python",
   "nbconvert_exporter": "python",
   "pygments_lexer": "ipython3",
   "version": "3.9.6"
  }
 },
 "nbformat": 4,
 "nbformat_minor": 5
}
