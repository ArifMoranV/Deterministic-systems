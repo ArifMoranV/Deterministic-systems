{
 "cells": [
  {
   "cell_type": "code",
   "execution_count": 2,
   "id": "9394830e",
   "metadata": {},
   "outputs": [],
   "source": [
    "import numpy as np\n",
    "from  matplotlib import pyplot as plt\n",
    "import sympy as sp\n",
    "from scipy.special import roots_legendre, eval_legendre\n",
    "import random\n",
    "import math\n"
   ]
  },
  {
   "cell_type": "code",
   "execution_count": 4,
   "id": "357be61d",
   "metadata": {},
   "outputs": [],
   "source": [
    "def montecarlo(a,b,f): ##Integral por montecarlo\n",
    "    f1=sp.lambdify(x,f)\n",
    "    n=1000000 #Numero de iteraciones\n",
    "    xs=np.random.uniform(low=a, high=b, size=n)\n",
    "    I=((b-a)/n)*np.sum(f1(xs))\n",
    "    return I\n"
   ]
  },
  {
   "cell_type": "code",
   "execution_count": 14,
   "id": "849e661b",
   "metadata": {},
   "outputs": [],
   "source": [
    "x=sp.symbols('x')\n",
    "f=-sp.exp(-x**2)"
   ]
  },
  {
   "cell_type": "code",
   "execution_count": 15,
   "id": "38fff476",
   "metadata": {},
   "outputs": [
    {
     "data": {
      "text/plain": [
       "-1.775241760113907"
      ]
     },
     "execution_count": 15,
     "metadata": {},
     "output_type": "execute_result"
    }
   ],
   "source": [
    "montecarlo(-10,10,f)"
   ]
  },
  {
   "cell_type": "code",
   "execution_count": 20,
   "id": "adefca5a",
   "metadata": {},
   "outputs": [
    {
     "data": {
      "text/latex": [
       "$\\displaystyle - \\sqrt{\\pi} \\operatorname{erf}{\\left(10 \\right)}$"
      ],
      "text/plain": [
       "-sqrt(pi)*erf(10)"
      ]
     },
     "execution_count": 20,
     "metadata": {},
     "output_type": "execute_result"
    }
   ],
   "source": [
    "sp.integrate(f,(x,-10,10))"
   ]
  },
  {
   "cell_type": "code",
   "execution_count": null,
   "id": "1797ed1b",
   "metadata": {},
   "outputs": [],
   "source": []
  }
 ],
 "metadata": {
  "kernelspec": {
   "display_name": "Python 3 (ipykernel)",
   "language": "python",
   "name": "python3"
  },
  "language_info": {
   "codemirror_mode": {
    "name": "ipython",
    "version": 3
   },
   "file_extension": ".py",
   "mimetype": "text/x-python",
   "name": "python",
   "nbconvert_exporter": "python",
   "pygments_lexer": "ipython3",
   "version": "3.9.6"
  }
 },
 "nbformat": 4,
 "nbformat_minor": 5
}
