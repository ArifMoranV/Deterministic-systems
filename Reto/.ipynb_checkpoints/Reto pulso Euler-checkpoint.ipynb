{
 "cells": [
  {
   "cell_type": "code",
   "execution_count": 2,
   "id": "8b2ef36d",
   "metadata": {},
   "outputs": [],
   "source": [
    "import numpy as np\n",
    "from matplotlib import pyplot as plt\n",
    "from matplotlib import cm"
   ]
  },
  {
   "cell_type": "code",
   "execution_count": 1,
   "id": "e8044754",
   "metadata": {},
   "outputs": [
    {
     "ename": "NameError",
     "evalue": "name 'np' is not defined",
     "output_type": "error",
     "traceback": [
      "\u001b[1;31m---------------------------------------------------------------------------\u001b[0m",
      "\u001b[1;31mNameError\u001b[0m                                 Traceback (most recent call last)",
      "Cell \u001b[1;32mIn[1], line 5\u001b[0m\n\u001b[0;32m      3\u001b[0m ti\u001b[38;5;241m=\u001b[39m\u001b[38;5;241m-\u001b[39m\u001b[38;5;241m10\u001b[39m\n\u001b[0;32m      4\u001b[0m tf\u001b[38;5;241m=\u001b[39m\u001b[38;5;241m10\u001b[39m\n\u001b[1;32m----> 5\u001b[0m xf\u001b[38;5;241m=\u001b[39m\u001b[43mnp\u001b[49m\u001b[38;5;241m.\u001b[39mpi\n\u001b[0;32m      6\u001b[0m ts\u001b[38;5;241m=\u001b[39mnp\u001b[38;5;241m.\u001b[39marange(ti,tf,dt)\n\u001b[0;32m      7\u001b[0m xs\u001b[38;5;241m=\u001b[39mnp\u001b[38;5;241m.\u001b[39marange(\u001b[38;5;241m0\u001b[39m,xf,dx)\n",
      "\u001b[1;31mNameError\u001b[0m: name 'np' is not defined"
     ]
    }
   ],
   "source": [
    "dt = 0.05\n",
    "dx=(dt**2)/4\n",
    "ti=-10\n",
    "tf=10\n",
    "xf=np.pi\n",
    "ts=np.arange(ti,tf,dt)\n",
    "xs=np.arange(0,xf,dx)\n",
    "Nx=len(xs)\n",
    "N=len(ts)\n",
    "\n",
    "T,X=np.meshgrid(ts,xs)\n",
    "\n",
    "\n"
   ]
  },
  {
   "cell_type": "code",
   "execution_count": null,
   "id": "a006cdb4-d35b-49c9-bade-46017e76ca17",
   "metadata": {},
   "outputs": [],
   "source": [
    "#########################Condiciones iniciales\n",
    "#u0=np.sin(ts)\n",
    "#u0=np.exp(-ts**2)\n",
    "u0=2/np.cosh(ts)\n",
    "us=np.ones((Nx,N))*0j\n",
    "us[0]=u0"
   ]
  },
  {
   "cell_type": "code",
   "execution_count": null,
   "id": "093fa2dc-6ef2-4670-af2d-21d153a53ff2",
   "metadata": {},
   "outputs": [],
   "source": [
    "\n",
    "#us=np.vstack((us,u0+dt*f(u0)))\n",
    "us[1]=u0+dx*f(u0)\n",
    "###us[1]=us[0]+(dt/6)*()\n",
    "for i in range(1,Nx-1):\n",
    "    #us=np.vstack((us,2*dt*f(us[i])+us[i-1]))\n",
    "    us[i+1]=(2*dx*f(us[i])+us[i-1])\n",
    "\n",
    "#fig, ax = plt.subplots(subplot_kw={\"projection\": \"3d\"})\n",
    "#ax.scatter(T,X,us)\n",
    "#surf=ax.plot_surface(T, X, np.real(us),cmap=cm.coolwarm,\n",
    "                       #linewidth=0, antialiased=False)\n",
    "\n",
    "surf=plt.contourf(T,X,abs(us))\n",
    "plt.colorbar(surf, shrink=0.5, aspect=5)\n",
    "plt.xlabel(\"tiempo\")\n",
    "plt.xlim([ti,tf])\n",
    "plt.ylim([0,xf])\n",
    "plt.ylabel(\"espacio x\")\n",
    "#plt.axis('equal')\n",
    "plt.show()"
   ]
  },
  {
   "cell_type": "code",
   "execution_count": 4,
   "id": "971fcdfc",
   "metadata": {},
   "outputs": [],
   "source": [
    "def f(u):\n",
    "    return 1j*((u)*np.conj(u)*u+(1/2)*df2(u,dt)) ###derivada de tiempo 2"
   ]
  },
  {
   "cell_type": "code",
   "execution_count": 179,
   "id": "09daf0b2",
   "metadata": {},
   "outputs": [],
   "source": [
    "#def f(u):\n",
    "    #return 1j*((u)*np.conj(u)*u+(1/2)*df(df(u,dt),dt)) ###derivada de tiempo 2"
   ]
  },
  {
   "cell_type": "code",
   "execution_count": 3,
   "id": "04966d1d",
   "metadata": {},
   "outputs": [],
   "source": [
    "def df2(y,dt):\n",
    "    N=len(y)\n",
    "    yp=y*0\n",
    "    for i in range(1,N-1):\n",
    "        yp[i]=(y[i+1]-2*y[i]+y[i-1])/dt**2\n",
    "    yp[0]=yp[1]\n",
    "    yp[-1]=yp[-2]\n",
    "    return yp"
   ]
  },
  {
   "cell_type": "code",
   "execution_count": 177,
   "id": "b9ba844f",
   "metadata": {},
   "outputs": [],
   "source": [
    "#def df(y,dt):\n",
    "  #  t=np.arange(ti,tf,dt)\n",
    "   # n=len(y)\n",
    "    #v1=np.ones(n-1)*(1/2)\n",
    "    #v2=np.ones(n-1)*(-1/2)\n",
    "    #D=(np.diag(v1,k=1)+np.diag(v2,k=-1))/dt\n",
    "    #yp=np.matmul(D, y)\n",
    "    #yp[0]=yp[1]\n",
    "    #yp[-1]=yp[-2]\n",
    "    #return yp"
   ]
  },
  {
   "cell_type": "code",
   "execution_count": null,
   "id": "f07bfd12",
   "metadata": {},
   "outputs": [],
   "source": []
  }
 ],
 "metadata": {
  "kernelspec": {
   "display_name": "Python 3 (ipykernel)",
   "language": "python",
   "name": "python3"
  },
  "language_info": {
   "codemirror_mode": {
    "name": "ipython",
    "version": 3
   },
   "file_extension": ".py",
   "mimetype": "text/x-python",
   "name": "python",
   "nbconvert_exporter": "python",
   "pygments_lexer": "ipython3",
   "version": "3.8.17"
  }
 },
 "nbformat": 4,
 "nbformat_minor": 5
}
