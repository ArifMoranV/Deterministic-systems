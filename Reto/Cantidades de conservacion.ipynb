{
 "cells": [
  {
   "cell_type": "code",
   "execution_count": 28,
   "id": "c4f93ee1",
   "metadata": {},
   "outputs": [],
   "source": [
    "import numpy as np\n",
    "from  matplotlib import pyplot as plt\n",
    "import sympy as sp\n",
    "from scipy.special import roots_legendre, eval_legendre\n",
    "import random\n",
    "import math\n",
    "from scipy.integrate import trapz"
   ]
  },
  {
   "cell_type": "code",
   "execution_count": 32,
   "id": "283c790d",
   "metadata": {},
   "outputs": [
    {
     "name": "stderr",
     "output_type": "stream",
     "text": [
      "<lambdifygenerated-44>:2: RuntimeWarning: overflow encountered in exp\n",
      "  return abs(((1/2)*exp(x) + (1/2)*exp(-x))**(-1.0))**2\n",
      "<lambdifygenerated-45>:2: RuntimeWarning: overflow encountered in exp\n",
      "  return abs(((1/2)*exp(x) + (1/2)*exp(-x))**(-1.0))**2\n"
     ]
    },
    {
     "data": {
      "text/plain": [
       "(2.592100869756831e-295, 1.9822695045120216)"
      ]
     },
     "execution_count": 32,
     "metadata": {},
     "output_type": "execute_result"
    }
   ],
   "source": [
    "x=sp.symbols('x')\n",
    "j=sp.sqrt(-1)\n",
    "\n",
    "#u=3*sp.sech((x-5)/6)*sp.exp(j*(x-5))\n",
    "u=sp.sech(x)\n",
    "#u=2*sp.sech(x+sp.exp(1))*sp.sin(x+sp.exp(1/2))\n",
    "\n",
    "\n",
    "P(u)\n",
    "#ts=np.linspace(-1000,1000,10000)\n",
    "#PN(1/np.cosh(ts),ts)"
   ]
  },
  {
   "cell_type": "code",
   "execution_count": null,
   "id": "4572f97c",
   "metadata": {},
   "outputs": [],
   "source": [
    "#M(u)"
   ]
  },
  {
   "cell_type": "code",
   "execution_count": 24,
   "id": "68fd7ad9",
   "metadata": {},
   "outputs": [
    {
     "name": "stderr",
     "output_type": "stream",
     "text": [
      "<lambdifygenerated-31>:2: RuntimeWarning: overflow encountered in exp\n",
      "  return 0.5*abs(tanh(x)*((1/2)*exp(x) + (1/2)*exp(-x))**(-1.0))**2 - 0.5*abs(((1/2)*exp(x) + (1/2)*exp(-x))**(-1.0))**4\n"
     ]
    },
    {
     "data": {
      "text/plain": [
       "(7.69176535578711e-30, -0.3500969743659497)"
      ]
     },
     "execution_count": 24,
     "metadata": {},
     "output_type": "execute_result"
    }
   ],
   "source": [
    "H(u)"
   ]
  },
  {
   "cell_type": "code",
   "execution_count": 25,
   "id": "892a0615",
   "metadata": {},
   "outputs": [
    {
     "name": "stderr",
     "output_type": "stream",
     "text": [
      "<lambdifygenerated-33>:2: RuntimeWarning: overflow encountered in exp\n",
      "  return 1.0*x*abs(((1/2)*exp(x) + (1/2)*exp(-x))**(-1.0))**2\n"
     ]
    },
    {
     "data": {
      "text/plain": [
       "(2.7455523594293102e-45, -0.025136400495548678)"
      ]
     },
     "execution_count": 25,
     "metadata": {},
     "output_type": "execute_result"
    }
   ],
   "source": [
    "c(u)"
   ]
  },
  {
   "cell_type": "code",
   "execution_count": 3,
   "id": "7234aa19",
   "metadata": {},
   "outputs": [],
   "source": [
    "def montecarlo(a,b,f): ##Integral por montecarlo\n",
    "    f1=sp.lambdify(x,f)\n",
    "    n=1000000 #Numero de iteraciones\n",
    "    xs=np.random.uniform(low=a, high=b, size=n)\n",
    "    I=((b-a)/n)*np.sum(f1(xs))\n",
    "    return I\n"
   ]
  },
  {
   "cell_type": "code",
   "execution_count": 18,
   "id": "371756cf",
   "metadata": {},
   "outputs": [],
   "source": [
    "def quadg(a,b,n,f):##Integral por cuadratura gaussiana\n",
    "    f1=sp.lambdify(x,f)\n",
    "    r, w = roots_legendre(n)\n",
    "    fs=f1((((b-a)*r)+(b+a))/2)\n",
    "    I=np.dot(w,fs)\n",
    "    return I\n",
    "    "
   ]
  },
  {
   "cell_type": "code",
   "execution_count": 5,
   "id": "0af7928d",
   "metadata": {},
   "outputs": [],
   "source": [
    "def P(u): #Potencia\n",
    "    f=abs(u)**2\n",
    "    #f1=sp.lambdify(x,f)\n",
    "    Iqg=quadg(-1000,1000,4,f)\n",
    "    Im=montecarlo(-1000,1000,f)\n",
    "    return Iqg,Im"
   ]
  },
  {
   "cell_type": "code",
   "execution_count": 6,
   "id": "bfb425dc",
   "metadata": {},
   "outputs": [],
   "source": [
    "#Potencia numerica\n",
    "def PN(u,ts):\n",
    "     return trapz(abs(u)**2,ts)"
   ]
  },
  {
   "cell_type": "code",
   "execution_count": 7,
   "id": "3507ac1c",
   "metadata": {},
   "outputs": [],
   "source": [
    "def M(u):#Momentum\n",
    "    j=sp.sqrt(-1)\n",
    "    uc=np.conj(u)\n",
    "    f=sp.simplify(j*(sp.diff(uc,x)*u-sp.diff(u,x)*uc))\n",
    "    #f1=sp.lambdify(x,f)\n",
    "    Iqg=quadg(-100,100,4,f)\n",
    "    Im=montecarlo(-1000,1000,f)\n",
    "    return Iqg,Im"
   ]
  },
  {
   "cell_type": "code",
   "execution_count": 8,
   "id": "40e090b1",
   "metadata": {},
   "outputs": [],
   "source": [
    "#Momentum numerico\n",
    "def MN(u,ts):\n",
    "    dt=np.diff(ts)[0]\n",
    "    a=(df(np.conj(u),dt)*u-df(u,dt)*np.conj(u))\n",
    "    return 1j*trapz(a,ts)"
   ]
  },
  {
   "cell_type": "code",
   "execution_count": 9,
   "id": "d5a521fb",
   "metadata": {},
   "outputs": [],
   "source": [
    "def H(u):#Hamiltoniano\n",
    "    dudt=sp.diff(u,x)\n",
    "    f=1/2*(abs(dudt)**2-abs(u)**4)\n",
    "    #f1=sp.lambdify(x,f)\n",
    "    Iqg=quadg(-100,100,4,f)\n",
    "    Im=montecarlo(-1000,1000,f)\n",
    "    return Iqg,Im"
   ]
  },
  {
   "cell_type": "code",
   "execution_count": 10,
   "id": "86778b2d",
   "metadata": {},
   "outputs": [],
   "source": [
    "def c(u): ##Centroide\n",
    "    ro=1\n",
    "    f=1/ro*(x*abs(u)**2)\n",
    "    #f1=sp.lambdify(x,f)\n",
    "    Iqg=quadg(-100,100,4,f)\n",
    "    Im=montecarlo(-1000,1000,f)\n",
    "    return Iqg,Im"
   ]
  },
  {
   "cell_type": "code",
   "execution_count": null,
   "id": "a4a7f7b8",
   "metadata": {},
   "outputs": [],
   "source": []
  }
 ],
 "metadata": {
  "kernelspec": {
   "display_name": "Python 3 (ipykernel)",
   "language": "python",
   "name": "python3"
  },
  "language_info": {
   "codemirror_mode": {
    "name": "ipython",
    "version": 3
   },
   "file_extension": ".py",
   "mimetype": "text/x-python",
   "name": "python",
   "nbconvert_exporter": "python",
   "pygments_lexer": "ipython3",
   "version": "3.9.6"
  }
 },
 "nbformat": 4,
 "nbformat_minor": 5
}
