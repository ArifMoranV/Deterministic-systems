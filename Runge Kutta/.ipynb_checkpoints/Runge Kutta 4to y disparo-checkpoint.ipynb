{
 "cells": [
  {
   "cell_type": "code",
   "execution_count": 81,
   "id": "cd6684f0",
   "metadata": {},
   "outputs": [],
   "source": [
    "import numpy as np\n",
    "import sympy as sp\n",
    "from matplotlib import pyplot as plt\n",
    "from scipy.interpolate import interp1d"
   ]
  },
  {
   "cell_type": "code",
   "execution_count": 124,
   "id": "1a8641a7",
   "metadata": {},
   "outputs": [
    {
     "data": {
      "text/latex": [
       "$\\displaystyle - 2 y^{3} + y$"
      ],
      "text/plain": [
       "-2*y**3 + y"
      ]
     },
     "execution_count": 124,
     "metadata": {},
     "output_type": "execute_result"
    }
   ],
   "source": [
    "t,y,v=sp.symbols('t,y,v')\n",
    "f=(y-2*y**(3))\n",
    "f"
   ]
  },
  {
   "cell_type": "code",
   "execution_count": 200,
   "id": "94329cef",
   "metadata": {},
   "outputs": [
    {
     "data": {
      "image/png": "[encoded data removed]",
      "text/plain": [
       "<Figure size 640x480 with 1 Axes>"
      ]
     },
     "metadata": {},
     "output_type": "display_data"
    }
   ],
   "source": [
    "#RK4(y0,v0,dt,tf,f)\n",
    "#RK4(100,0,0.01,15,f=-9.8-0.5*v)\n",
    "#RK4(0,(np.pi/4),0.01,50,sp.sin(v))\n",
    "#u=RK4(1,0,0.0001,10,(y)-2*y**3)\n",
    "#(y0,v0,dt,tf,f)\n",
    "RK4(1.0000000169344019,0,0.001,10,f,1)"
   ]
  },
  {
   "cell_type": "code",
   "execution_count": 126,
   "id": "7321de3a",
   "metadata": {},
   "outputs": [],
   "source": [
    "def d2ydt2(y,f1):\n",
    "    return np.array([y[1],f1(y[0],y[1],y[2]),1])"
   ]
  },
  {
   "cell_type": "code",
   "execution_count": 127,
   "id": "3c0e2ae1",
   "metadata": {},
   "outputs": [],
   "source": [
    "def RK4(y0,v0,dt,tf,f,plot):\n",
    "    f1=sp.lambdify([y,v,t],f)\n",
    "    ts=np.arange(0,tf,dt)\n",
    "    n=len(ts)\n",
    "    ys=ts*0\n",
    "    vs=ts*0\n",
    "    ac=ts*0\n",
    "    ys[0]=y0\n",
    "    vs[0]=v0\n",
    "    for i in range(0,n-1):\n",
    "        z0=np.array([ys[i],vs[i],ts[i]])\n",
    "        k1=d2ydt2(z0,f1)\n",
    "        k2=d2ydt2(z0+(dt*k1)/2,f1)\n",
    "        k3=d2ydt2(z0+(dt*k2)/2,f1)\n",
    "        k4=d2ydt2(z0+dt*k3,f1)\n",
    "        \n",
    "        ys[i+1]=ys[i]+(dt/6)*(k1[0]+2*k2[0]+2*k3[0]+k4[0])\n",
    "        vs[i+1]=vs[i]+(dt/6)*(k1[1]+2*k2[1]+2*k3[1]+k4[1])\n",
    "        ac[i]=f1(ys[i],vs[i],1)\n",
    "        \n",
    "    if plot==1:\n",
    "        plt.plot(ts,ys,color='black',label='Posicion')\n",
    "        plt.plot(ts,1/np.cosh(ts),color='red')\n",
    "        #plt.plot(ts,vs,color='blue',label='Velocidad')\n",
    "        #plt.plot(ts,ac,color='red',label='aceleracion')\n",
    "        plt.xlim([0,tf])\n",
    "        plt.ylim([-0.1,1.1])\n",
    "        #plt.axis('equal')\n",
    "        plt.grid('on')\n",
    "        plt.legend()\n",
    "        plt.show()\n",
    "    else:\n",
    "        return ys\n",
    "    #return ts,ys,vs,ac"
   ]
  },
  {
   "cell_type": "markdown",
   "id": "959fae69",
   "metadata": {},
   "source": [
    "##Runge Kutta de 1er orden##"
   ]
  },
  {
   "cell_type": "code",
   "execution_count": 57,
   "id": "2d6c695c",
   "metadata": {},
   "outputs": [],
   "source": [
    "nn=100\n",
    "y0s=np.linspace(0.001,10,nn)\n",
    "us=y0s*0\n",
    "RKK=np.vectorize(RK4)\n",
    "us=RKK(y0s,0,0.001,10,(y)-2*y**3)\n",
    "\n"
   ]
  },
  {
   "cell_type": "code",
   "execution_count": 204,
   "id": "a2b77b81",
   "metadata": {},
   "outputs": [],
   "source": [
    "def disparo(a,b,tol,conv,it):\n",
    "    c=(a+b)/2\n",
    "    for i in range(0,it):\n",
    "        y0=RK4(c,0,0.001,10,f,2)\n",
    "        l=0 #Numero de oscilaciones\n",
    "        for j in range(1,len(y0)):   \n",
    "            #k=(y0[j]/abs(y0[j])+y0[j-1]/abs(y0[j-1]))\n",
    "            k=y0[j]*y0[j-1]\n",
    "            if k<0:# si hay un cambio de signo\n",
    "                l=l+1\n",
    "\n",
    "        if abs(y0[-1]-conv) <= tol and l==0:\n",
    "            break\n",
    "        elif l==0:\n",
    "            a = c\n",
    "        else:\n",
    "            b = c\n",
    "        c=(a+b)/2\n",
    "    return y0[0],y0"
   ]
  },
  {
   "cell_type": "code",
   "execution_count": 206,
   "id": "e5927a17",
   "metadata": {},
   "outputs": [
    {
     "data": {
      "text/plain": [
       "0.9999998882412912"
      ]
     },
     "execution_count": 206,
     "metadata": {},
     "output_type": "execute_result"
    }
   ],
   "source": [
    "tol=0.001\n",
    "a=0.1\n",
    "b=30\n",
    "it=100\n",
    "conv=0.001\n",
    "y00=disparo(a,b,tol,conv,it)\n",
    "y00[0]"
   ]
  },
  {
   "cell_type": "code",
   "execution_count": null,
   "id": "25b2d6fc",
   "metadata": {},
   "outputs": [],
   "source": []
  }
 ],
 "metadata": {
  "kernelspec": {
   "display_name": "Python 3 (ipykernel)",
   "language": "python",
   "name": "python3"
  },
  "language_info": {
   "codemirror_mode": {
    "name": "ipython",
    "version": 3
   },
   "file_extension": ".py",
   "mimetype": "text/x-python",
   "name": "python",
   "nbconvert_exporter": "python",
   "pygments_lexer": "ipython3",
   "version": "3.9.6"
  }
 },
 "nbformat": 4,
 "nbformat_minor": 5
}
